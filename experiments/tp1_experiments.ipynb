{
 "cells": [
  {
   "cell_type": "code",
   "execution_count": 40,
   "metadata": {},
   "outputs": [],
   "source": [
    "import sys \n",
    "import os \n",
    "from os import path\n",
    "\n",
    "\n",
    "RESULTS_DIR = '../experiments/results'\n",
    "GRAPHICS_DIR = '../experiments/results/graphics'\n",
    "\n",
    "####\n",
    "# Tenemos que hacer esto por como estan definidos los packages del tp tlengrep\n",
    "# Si no se ejecuta desde telengrep rompe la ejecucion.\n",
    "# Lo que hacemos es correr la notebook seteando el \"working directory\" de python\n",
    "# como si corriera desde /tlengrep\n",
    "###\n",
    "def hack_path_enviroment():\n",
    "    sys.path.insert(0, \"..\")\n",
    "    #os.getcwd()\n",
    "    os.chdir('../tlengrep/')\n",
    "    #os.getcwd()\n",
    "\n",
    "\n",
    "def init_folders():\n",
    "    if path.exists(f'{RESULTS_DIR}') == False:\n",
    "        os.mkdir(f'{RESULTS_DIR}')\n",
    "\n",
    "    if path.exists(f'{GRAPHICS_DIR}') == False:\n",
    "        os.mkdir(f'{GRAPHICS_DIR}')\n",
    "\n"
   ]
  },
  {
   "cell_type": "code",
   "execution_count": 41,
   "metadata": {},
   "outputs": [
    {
     "data": {
      "text/plain": [
       "'/home/nacho/PARA/1. Projects/Q3-Q4/tlen 2c2023/tps/2023-2c-tp-tomas-martin-ignacio-3/tlengrep'"
      ]
     },
     "execution_count": 41,
     "metadata": {},
     "output_type": "execute_result"
    }
   ],
   "source": [
    "os.getcwd()\n"
   ]
  },
  {
   "cell_type": "code",
   "execution_count": 42,
   "metadata": {},
   "outputs": [],
   "source": [
    "hack_path_enviroment()\n",
    "\n",
    "init_folders()\n"
   ]
  },
  {
   "cell_type": "code",
   "execution_count": 2,
   "metadata": {},
   "outputs": [
    {
     "data": {
      "text/plain": [
       "False"
      ]
     },
     "execution_count": 2,
     "metadata": {},
     "output_type": "execute_result"
    }
   ],
   "source": [
    "import tlengrep.regex as regex\n",
    "\n",
    "l = regex.Lambda()\n",
    "l.naive_match('a')"
   ]
  },
  {
   "cell_type": "code",
   "execution_count": 3,
   "metadata": {},
   "outputs": [],
   "source": [
    "TOTAL_INSTANCES = 10\n",
    "SIZE_STEP = 100\n",
    "instances = [\"ab\" * (i*SIZE_STEP) for i in range(1, TOTAL_INSTANCES + 1)]\n",
    "\n",
    "\n",
    "# instances_dict = {\n",
    "#     'inst_1': {\n",
    "#         'name': 'inst_1',\n",
    "#         ''\n",
    "#     }\n",
    "# }"
   ]
  },
  {
   "cell_type": "code",
   "execution_count": 4,
   "metadata": {},
   "outputs": [],
   "source": [
    "def generate_regular_expression_1():\n",
    "    return regex.Star(regex.Concat(regex.Char('a'), regex.Char('b')))"
   ]
  },
  {
   "cell_type": "code",
   "execution_count": 5,
   "metadata": {},
   "outputs": [],
   "source": [
    "reg_ex_dict = {\n",
    "    're_1': {\n",
    "        'name': 're_1',\n",
    "        'regex': generate_regular_expression_1(),\n",
    "        'regex_str': '(ab)*'}\n",
    "}\n",
    "    \n",
    "\n"
   ]
  },
  {
   "cell_type": "code",
   "execution_count": 59,
   "metadata": {},
   "outputs": [
    {
     "data": {
      "text/plain": [
       "(['a', 'b', 'c', 'd', 'e', 'f'], <tlengrep.regex.Union at 0x7f3e80e93a00>)"
      ]
     },
     "execution_count": 59,
     "metadata": {},
     "output_type": "execute_result"
    }
   ],
   "source": [
    "import string \n",
    "\n",
    "\n",
    "# Genera una expresión regular donde una cadena de exto es recorrida k veces hasta el ultimo caracter\n",
    "# Para esto seleccionamos k caracteres {c1,...ck} y obtenemos las clausuras de kleene {c1*, ..., ck*}.\n",
    "# Realizamos la concatenación en una expresión regular R1 = c1*c2*...ck*\n",
    "# Luego tomamos k caracteres distintos {d1,...dk} a los que no les realizamos la clasura y construimos la expresión.\n",
    "# regular R = (R1 d1 | R1 d2 | R1 d3 | ... | R1 dk)\n",
    "# para esto hacemos una \"suma\" de distintas clausuras de kleene para cada caracter \n",
    "# Ahora si construimos un string como \"R1 dk\" la expresión regular debera recorrer \n",
    "# cada caso fallando unicamente en el último caracter y\n",
    "def generate_regulat_expression_2(size=3):\n",
    "    assert(size*2 <= 52)\n",
    "    all_letters = list(string.ascii_letters)\n",
    "    #print(len(all_letters))\n",
    "    result_alphabet = []\n",
    "\n",
    "    ## Primero generamos a*, b*, ... hasta size\n",
    "    closures = []\n",
    "    for idx in range (0, size):\n",
    "        letter = all_letters[idx]\n",
    "        re = regex.Star(regex.Char(letter))\n",
    "        closures.append(re)\n",
    "        result_alphabet.append(letter)\n",
    "\n",
    "    ## Nos con los siguientes k characteres\n",
    "    sub_regexes = []\n",
    "    for i in range(0, size):\n",
    "        idx = (size+i)\n",
    "        letter = all_letters[idx]\n",
    "        re = regex.Concat(closures[i], regex.Char(letter))\n",
    "        sub_regexes.append(re)\n",
    "        result_alphabet.append(letter)\n",
    "\n",
    "    ## Ahora generamos la suma de todos los sub_regexes para\n",
    "    ## construir R = (R1 d1 | ... | R1 dk)\n",
    "    final_regex = None\n",
    "    for sub_re in sub_regexes:\n",
    "        if final_regex is None:\n",
    "            final_regex = sub_re\n",
    "\n",
    "        else:\n",
    "            final_regex = regex.Union(final_regex, sub_re)\n",
    "\n",
    "\n",
    "    return result_alphabet, final_regex\n",
    "\n",
    "\n",
    "\n",
    "\n",
    "generate_regulat_expression_2()"
   ]
  },
  {
   "cell_type": "code",
   "execution_count": 92,
   "metadata": {},
   "outputs": [],
   "source": [
    "import random \n",
    "\n",
    "reg_ex_exp2_dict = {}\n",
    "\n",
    "EXP2_INSTANCE_SIZES = [5,10,15,20,25]\n",
    "\n",
    "for i in EXP2_INSTANCE_SIZES:\n",
    "    re_dict = {}\n",
    "\n",
    "    alph, re = generate_regulat_expression_2(size=i)\n",
    "    re_dict['name'] = f're_exp2_{i}'\n",
    "    re_dict['alph'] = alph \n",
    "    re_dict['re'] = re \n",
    "    reg_ex_exp2_dict[re_dict['name']] = re_dict\n",
    "\n"
   ]
  },
  {
   "cell_type": "code",
   "execution_count": 93,
   "metadata": {},
   "outputs": [
    {
     "data": {
      "text/plain": [
       "dict_keys(['re_exp2_5', 're_exp2_10', 're_exp2_15', 're_exp2_20', 're_exp2_25'])"
      ]
     },
     "execution_count": 93,
     "metadata": {},
     "output_type": "execute_result"
    }
   ],
   "source": [
    "reg_ex_exp2_dict.keys()"
   ]
  },
  {
   "cell_type": "code",
   "execution_count": 94,
   "metadata": {},
   "outputs": [],
   "source": [
    "exp2_instances_dict = {}\n",
    "\n",
    "def generate_instances_for_re_2(alphabet, total_instances=10, size_step=100):\n",
    "    usable_alph = alphabet.copy()\n",
    "    last_character = usable_alph.pop()\n",
    "    instances = [  ''.join(random.choices(usable_alph, k=(i*size_step)) + [last_character] ) for i in range(1, total_instances + 1)]\n",
    "    return instances\n",
    "\n",
    "\n",
    "for i in EXP2_INSTANCE_SIZES:\n",
    "    inst_dict = {}\n",
    "    inst_dict['name'] = f'exp2_inst_{i}'\n",
    "    alph = reg_ex_exp2_dict[f're_exp2_{i}']['alph']\n",
    "    inst_dict['instances'] = generate_instances_for_re_2(alph)\n",
    "    exp2_instances_dict[inst_dict['name']] = inst_dict\n",
    "    \n",
    "    \n",
    "\n"
   ]
  },
  {
   "cell_type": "code",
   "execution_count": 95,
   "metadata": {},
   "outputs": [
    {
     "data": {
      "text/plain": [
       "dict_keys(['exp2_inst_5', 'exp2_inst_10', 'exp2_inst_15', 'exp2_inst_20', 'exp2_inst_25'])"
      ]
     },
     "execution_count": 95,
     "metadata": {},
     "output_type": "execute_result"
    }
   ],
   "source": [
    "exp2_instances_dict.keys()"
   ]
  },
  {
   "cell_type": "code",
   "execution_count": 76,
   "metadata": {},
   "outputs": [
    {
     "data": {
      "text/plain": [
       "['bokfbbdsefcnihlkosskqikpfpkilakhhfsjcrnllmlpnlacpjngnjsgdjrsffsaronrfihrsmlbehnlhlieosgiohrdcnigmhkqt',\n",
       " 'lednoraenkmqopgknahjnsgiholpslmndmccgplpjoejkabqgjmomslbakqbllgsobrdaffsmahlqiahfpoinasnareeoghqjdaaesabmkroppqmamijgcgroqnqrnnhicmnbmbqmidkardleoaplfjfrrjapkffraocjdbahgnasnimbihocfklpeaeijjeboofbhmet',\n",
       " 'iidogkkrbnimmknbdahcjambrsdrojapdcmhjsrbgminaspreaaaekqmjojlgipikqjerifdccijsrncfbnogoopeaicsoihijhpdsngbpdccnopnejqlknpqrnnmigghldkserpplsbfjcsgeirmakbnldbmhaqprknjjqanepshppeplboanghenmbpeqaqemnibipgjsbogagcmdngnfceprgsprpnoraiarsfkngmrjdranlqjssljkprpkeocmcqonjgreqmrmdebpmisspsdpelkaqaeemloreajdnt',\n",
       " 'ddbqmpqdcscgdspjqmoijqnfpajgqgcljsfqsdeolbiobqprreqifqoaeidfodqfmkkoiqibiiogirckndpdfnbeasbeiqjghemiekcimlarfrbebsqhhjqjphqnbopsdbsicdafoqipfbbnlbsnmfkckambpkmacdkboqallpsosdmnmiiinshbfkdhfajkikpjsolhaphkcfjqjgcipicmcrkoceisjhqbebdbedeehfermcfdqrjbhigskokijisldkphrfrnehisljobkhirehadsbaamorhkafqfjjsoarjerhcqkamidkphfighplkprslibdpcbcohgggbrfrcsariabgomqqoeajhcddnqrrosmmfjranlsdckaoofqdmjdobbdsnpoht',\n",
       " 'lbcnibqmsamjcradicggdqegpcmlilkongronpqgcahlheaqcbgpejpomrdrngdclphigbbhrnqkpofakkpnrrkdlobdgobidknkggbkjlmglmlkasbmrofrsbcrljribfpkfnfeclssggiarfcopdghdoqnpcnqnloejefrdqccrrsamipgednlhgiegsjriqaaombbhdoanfkashjnqsmijlspgkmmpsblchidolhcbiresbnpqfhgbnpkihnpssgekneehqnamaiajpjfgqpjsnhrakdbejskkckjpefpsfgfflbiskmdncledqihskngfprkfifojckngliikfrlskfejnirkbhposjjmshoebhghlqsbondmopipqabrofqoobhcroheiaroqedfkbicoaioelkgdlssirpdismlpqqabrnhbhacqfljrrrrmkfsgcecrgobcjaeagennelhhekbbqansnqfaogmifqodpkdreat',\n",
       " 'idokbhksrhjhpjfabeoobjcpicrefpqmirmdlforjmjdnmncaerchmiilpjofhncfqhfemfcrpigkpegngqqlpqmaggcrapdqsbbpgibidepkqppndlapfsqbmkscrmjmpphdplogqlgcahjdafjrnnloargqijogfrmomqsmfgnpomppoqdfmgrhnfqmohqmmkarjjdsnrpmgoajrlksjeqopflsmiqbqfagglpqkrpsfkoiiomrregrgqdhpiqljkoenrmblsjjlcsiqipscbohcngddibddrqdmgckabbioombehspcmonngfeonlgpncklreiaoacqggifjkilmcqencmfqlbrhsleqhclbkallcmfoahkpjhamfappdsssdhhibimakgobsiodhlrochekkmmsfljrjsklfllgqboooohmdarrjibbmkjfhrdfbgfnlqlncfsrefmidjigcsnrlcfebsrdlbssgjbeagnojqdkpehknejssldnbmmbqebpfcgkqkfajoldafncmkakspcihhgdeoaqnloqhjbjpannefkrhkjfbrerdbqprmscigrchempildqhnkcqt',\n",
       " 'knlbmcrdnsplapkobeijolkmrpdgdgacdnnlmecfeoimrlcnnbgjnbrdmiqgpehdnrdbaadfhcojmlqnbfinnbcdbcjblfipofqrnkbhrchsgepsfasleckppcpjbosoqnsdlicifqkeldhqhfcakkbjhbsqqamlqdaejpjlikrqadonnbmdccdnemjqcosnfhcgiqfbgnpkjknfjihbgolccmabmgmsjhdjorgnqjhpsomnfiibbggrodeclgqlkspomedeandagaaffrkjbombrnfidiorjosahqrosgbblibpqsblnplijffllasimdksmklqhfkcrkoglsihhkflrscrodedpofknskbnlfojlschcfqbesqnjenlaipmmahhmqgepmiklbhgorboidgejfibkaicjadgnhhhsiniegsjafsnifeqbmhjinesllrlpoigiocpqmlrcpekgiplpdhnfdqhjrdrbjlhkkpnmqmishcsmpjeakbdqmnsjoedhomlilpihndeffoqjmobsbrrnjnomhkcgdhhfmekascinakfcriglcodbparbcfbgrjipbarkddfqsrredfdfnghqgoegkcdbobdlilomfjsqmgbbjfssocfnhqhdleriocqslrdaposqffbbbsdaobgocmqkrhdoedrfemfekfqfcirdegnlckt',\n",
       " 'nqhemqkdaplsddhlohnksfkkpsrphabgrqldgibjlsigispemajskjrefakdhpsnqrligfddhjipnoqngckbhsmrnklgopganrhglahpcikmaceqmcbkifqlmphlakrkejhephpgakjoqanepnkidbsbrbfqocopnrdcjesgribkpsejpqqsdpediqbopcjmeosmbpaclocfjlnsmpkfeislcidbegmgsasnfikojmbrehabjnbificlcpebcrnhmbqckcbnoicbcfkkobhmnblpbgeoemnadbjjgphfkhdhiolsgdnffrmemknsjosdaijjaopcfpcfbhqrqcjaiiqdlqlqorjbeffaolsmppokqjrkmrlsorekdnfbfpegqqmhbesbfdroscisqnfjobefnfcmiplarnqkqagmdreghfkhipsdikbdggefcbkososmsbmerdlfgbjschbagpapgocblqlqbeqemjgmfhoohbssjsskmcahqbraggpbsahhcogbrnedqaqldlglkjfdgrjlsrmackdqkmsjcdjnapppjqljfmkikohdpabcoqpogbrqejnlclkqqsckqhbbqnssffahrqpmdlfrpgkcnekcclgsjfpdseracafomidpdcfcckjjaqghasfescmjeespkjsfqbcsreimnscrdcprijlhbepjaimpkgqaqnqcacnaloocblrlgepmaadqrhkerhjmgesbnpscpgpiomdaecsnocgnbsbqebqmoshhepkidpkilajobaibfrepjjmcrmgkt',\n",
       " 'hihaoecjnfhlhseohcaihfharirgisksgoonrbfcnnopmpbfamdlklobamdpkgeeimrohhsicqinlqsbnngllirjlrmmdbrspejgnmihfhggogjgqehccmnmmcsgglhhegsbsjchjgjlioraloimrmjfdkoekbcpnokecapnfcmmppgnadnaifejsgnccksccfjbrasghljscnlrjqhbjrblhehrpnfnjkjkosckkggrspoiaaqeegkihkreookofsqegcrjpflcoobgchhahppeigraakeejqbriqnrbgeoeojmilbegolbjskacodghrgjsekqobnpofrehmnkooirlkibbkbcphcjimspqegrscbmgqardsbknbsfbibmaqlepibeeesmjsnsempdbpghfjofkgpdpjjjhopcbbbiecnldnacebjgbbcdjcfqmdjapseohprreqgikccjdlnfoasdlpcbcjgcnbqhpkmedndfemihmsojiljcfgglsiskdhhkemrmbrhrbofdjfnfoellkfjlaknfiepqehlkpjnehpegmlnlqhefkblgeeaqbqgeeksonboomllfgdionjjmsgemjscqdqpcssocfmbrfeqoqejhbddhkrsbromliaeqcbcqrjboqocclcfjeepgqliobqmrchiggpcniprnmophqrgflcfkhnshsadpabesnlrciqjndeorqglgmlahehpiephnkneshselreibihprscddisomlfaaopckijaoiqbfgelkjcndknjlfefeioljjscgqpicbbncqnodgjsidsbaafgaliispgsidsogdnalchsagqqdomhapeogaosnbsjbdnhndirilbmohfcibshelccbpficalmmt',\n",
       " 'lpkoomdainmiseeofopelkbcipnfleffcbnaeaiejkegsosgkhmobhmflmneebpfoaadqfbmpdsbebcfmqbbfgbjomhacrpkckqanlalrfqfdbjmgodndiqdmdpcbbrocjqqhnpkbsslamnkhpisaqegacrdsmjejchanrficanpocjmicsrchejnlsnjbacbigphkejhgijeofkkosnnsfegkmfnkhsiscgfoehjbsseeprlildcpgjnflrnqdleginjobheqspoonfloaslnrmngjcdpmmrrngoidmnsdrjegnmlhagmbpsdapglifjkhakgosekprhkqbqsfrmphpikekkdaldqlqhsafbafdqeacgjinkabqedgokpbgbclkcqjsjoehcdfllibaorfkilaarksfhnjilkobrdcbgeijboqprleenrqiqmmbegqjgkqoiqlmhkfbhespfslhcqnebhkjcljepifehcldefabiprbkeihgnlkanefishgqbkaqkdpchddmhppilahdgnrajohkfihllfpbqpjhcdlnhdclkjslqbeblfblbmiabiqiqpnfaqqjibohebnliknhhppdsaehdpdlaapjpkpaqfekcckrlnedffrjqbsddbhdbkddgjicdajqmhhqbbekcahcdhekcadkqedakdncdalbmjmdqqdkfdqcrpagrhrskblcederjrjqhggebppmhjanpcgabjbqnhbkolhckpfgrljdjpcmffirjhcmacsdrlcjrnnfhaoqgpboobeonqecgcebadjifijqkjfplmmcnqcmcbmnohbpgejpdgddaoodaippjqahokblbrkrjedgqhcqgcbqraprfslcrrbmmorsgicknnhqdgchriaarasldglnaobhfekdiaodhgfbmqjesnfmisrflnshrgheqqbraddmanaqjadidlprcsgpplmeohlohosocraisnegeigmeqlt']"
      ]
     },
     "execution_count": 76,
     "metadata": {},
     "output_type": "execute_result"
    }
   ],
   "source": []
  },
  {
   "cell_type": "code",
   "execution_count": 10,
   "metadata": {},
   "outputs": [],
   "source": [
    "import timeit as ti \n",
    "\n",
    "\n",
    "def time_regular_expression(reg_exp_dict, instances, verbose=1):\n",
    "\n",
    "    results = {}\n",
    "    results['instance'] = instances \n",
    "    time_results = []\n",
    "    results[f'{reg_exp_dict[\"name\"]} - avg time (ms)'] = time_results\n",
    "    naive_time_results = []\n",
    "    results[f'{reg_exp_dict[\"name\"]} - naive - avg time (ms)'] = naive_time_results\n",
    "\n",
    "    reg_exp = reg_exp_dict['regex']\n",
    "    EXPERIMENT_RUNS = 100 \n",
    "    if verbose >= 1:\n",
    "        print(f'Timing regular expression for {len(instances)} instances with {EXPERIMENT_RUNS} experiment runs')\n",
    "\n",
    "    for idx, instance in enumerate(instances):\n",
    "        if verbose >= 2:\n",
    "            print(f'Running experiment {idx} ...')\n",
    "        \n",
    "        ## Calculate regular expression time \n",
    "        time = ti.timeit(lambda: reg_exp.match(instance), number=EXPERIMENT_RUNS)\n",
    "        time = (time / EXPERIMENT_RUNS) * 1000\n",
    "        time_results.append(time)\n",
    "\n",
    "        if verbose >= 2:\n",
    "            print(f'Regular expression average time {time}')\n",
    "\n",
    "        ## Calculate naive regular expression time \n",
    "        time = ti.timeit(lambda: reg_exp.naive_match(instance), number=EXPERIMENT_RUNS)\n",
    "        time = (time / EXPERIMENT_RUNS) * 1000\n",
    "        naive_time_results.append(time)\n",
    "\n",
    "        if verbose >= 2:\n",
    "            print(f'Regular expression naive implementation average time {time}')\n",
    "    \n",
    "\n",
    "    return results"
   ]
  },
  {
   "cell_type": "code",
   "execution_count": 11,
   "metadata": {},
   "outputs": [
    {
     "name": "stdout",
     "output_type": "stream",
     "text": [
      "Timing regular expression for 10 instances with 100 experiment runs\n",
      "Running experiment 0 ...\n",
      "Regular expression average time 0.2990778791718185\n",
      "Regular expression naive implementation average time 2.365490570664406\n",
      "Running experiment 1 ...\n",
      "Regular expression average time 0.17408555140718818\n",
      "Regular expression naive implementation average time 8.528881389647722\n",
      "Running experiment 2 ...\n",
      "Regular expression average time 0.175117920152843\n",
      "Regular expression naive implementation average time 19.279123679734766\n",
      "Running experiment 3 ...\n",
      "Regular expression average time 0.3251389996148646\n",
      "Regular expression naive implementation average time 32.94780891155824\n",
      "Running experiment 4 ...\n",
      "Regular expression average time 0.2031012694351375\n",
      "Regular expression naive implementation average time 53.94714053021744\n",
      "Running experiment 5 ...\n",
      "Regular expression average time 0.3596765990369022\n",
      "Regular expression naive implementation average time 86.30741650005803\n",
      "Running experiment 6 ...\n",
      "Regular expression average time 0.23874026024714112\n",
      "Regular expression naive implementation average time 110.22169307107106\n",
      "Running experiment 7 ...\n",
      "Regular expression average time 0.3012676094658673\n",
      "Regular expression naive implementation average time 137.35167565057054\n",
      "Running experiment 8 ...\n",
      "Regular expression average time 0.295627168379724\n",
      "Regular expression naive implementation average time 176.42695968970656\n",
      "Running experiment 9 ...\n",
      "Regular expression average time 0.3267419012263417\n",
      "Regular expression naive implementation average time 235.10922404006124\n"
     ]
    }
   ],
   "source": [
    "results = time_regular_expression(reg_ex_dict['re_1'], instances, verbose=2)"
   ]
  },
  {
   "cell_type": "code",
   "execution_count": 25,
   "metadata": {},
   "outputs": [
    {
     "data": {
      "text/html": [
       "<div>\n",
       "<style scoped>\n",
       "    .dataframe tbody tr th:only-of-type {\n",
       "        vertical-align: middle;\n",
       "    }\n",
       "\n",
       "    .dataframe tbody tr th {\n",
       "        vertical-align: top;\n",
       "    }\n",
       "\n",
       "    .dataframe thead th {\n",
       "        text-align: right;\n",
       "    }\n",
       "</style>\n",
       "<table border=\"1\" class=\"dataframe\">\n",
       "  <thead>\n",
       "    <tr style=\"text-align: right;\">\n",
       "      <th></th>\n",
       "      <th>re_1 - avg time (ms)</th>\n",
       "      <th>re_1 - naive - avg time (ms)</th>\n",
       "    </tr>\n",
       "    <tr>\n",
       "      <th>instance size</th>\n",
       "      <th></th>\n",
       "      <th></th>\n",
       "    </tr>\n",
       "  </thead>\n",
       "  <tbody>\n",
       "    <tr>\n",
       "      <th>200</th>\n",
       "      <td>0.299078</td>\n",
       "      <td>2.365491</td>\n",
       "    </tr>\n",
       "    <tr>\n",
       "      <th>400</th>\n",
       "      <td>0.174086</td>\n",
       "      <td>8.528881</td>\n",
       "    </tr>\n",
       "    <tr>\n",
       "      <th>600</th>\n",
       "      <td>0.175118</td>\n",
       "      <td>19.279124</td>\n",
       "    </tr>\n",
       "    <tr>\n",
       "      <th>800</th>\n",
       "      <td>0.325139</td>\n",
       "      <td>32.947809</td>\n",
       "    </tr>\n",
       "    <tr>\n",
       "      <th>1000</th>\n",
       "      <td>0.203101</td>\n",
       "      <td>53.947141</td>\n",
       "    </tr>\n",
       "    <tr>\n",
       "      <th>1200</th>\n",
       "      <td>0.359677</td>\n",
       "      <td>86.307417</td>\n",
       "    </tr>\n",
       "    <tr>\n",
       "      <th>1400</th>\n",
       "      <td>0.238740</td>\n",
       "      <td>110.221693</td>\n",
       "    </tr>\n",
       "    <tr>\n",
       "      <th>1600</th>\n",
       "      <td>0.301268</td>\n",
       "      <td>137.351676</td>\n",
       "    </tr>\n",
       "    <tr>\n",
       "      <th>1800</th>\n",
       "      <td>0.295627</td>\n",
       "      <td>176.426960</td>\n",
       "    </tr>\n",
       "    <tr>\n",
       "      <th>2000</th>\n",
       "      <td>0.326742</td>\n",
       "      <td>235.109224</td>\n",
       "    </tr>\n",
       "  </tbody>\n",
       "</table>\n",
       "</div>"
      ],
      "text/plain": [
       "               re_1 - avg time (ms)  re_1 - naive - avg time (ms)\n",
       "instance size                                                    \n",
       "200                        0.299078                      2.365491\n",
       "400                        0.174086                      8.528881\n",
       "600                        0.175118                     19.279124\n",
       "800                        0.325139                     32.947809\n",
       "1000                       0.203101                     53.947141\n",
       "1200                       0.359677                     86.307417\n",
       "1400                       0.238740                    110.221693\n",
       "1600                       0.301268                    137.351676\n",
       "1800                       0.295627                    176.426960\n",
       "2000                       0.326742                    235.109224"
      ]
     },
     "execution_count": 25,
     "metadata": {},
     "output_type": "execute_result"
    }
   ],
   "source": [
    "import pandas as pd \n",
    "\n",
    "df = pd.DataFrame(results)\n",
    "df['instance size'] = df['instance'].apply(lambda x: len(x))\n",
    "df = df.drop(['instance'], axis=1)\n",
    "df = df.set_index('instance size')\n",
    "df"
   ]
  },
  {
   "cell_type": "code",
   "execution_count": 13,
   "metadata": {},
   "outputs": [
    {
     "name": "stdout",
     "output_type": "stream",
     "text": [
      "['re_1 - avg time (ms)', 're_1 - naive - avg time (ms)']\n"
     ]
    },
    {
     "data": {
      "text/plain": [
       "<Axes: xlabel='instance size'>"
      ]
     },
     "execution_count": 13,
     "metadata": {},
     "output_type": "execute_result"
    },
    {
     "data": {
      "image/png": "[encoded data removed]",
      "text/plain": [
       "<Figure size 640x480 with 1 Axes>"
      ]
     },
     "metadata": {},
     "output_type": "display_data"
    }
   ],
   "source": [
    "time_cols = []\n",
    "for col in df.columns:\n",
    "    if 'avg time' in col:\n",
    "        time_cols.append(col)\n",
    "\n",
    "print(time_cols)\n",
    "df.plot.line(x='instance size', y=time_cols)"
   ]
  },
  {
   "cell_type": "code",
   "execution_count": 14,
   "metadata": {},
   "outputs": [],
   "source": [
    "import seaborn as sns\n",
    "import matplotlib.pyplot as plt"
   ]
  },
  {
   "cell_type": "code",
   "execution_count": 43,
   "metadata": {},
   "outputs": [
    {
     "data": {
      "image/png": "[encoded data removed]",
      "text/plain": [
       "<Figure size 700x700 with 1 Axes>"
      ]
     },
     "metadata": {},
     "output_type": "display_data"
    },
    {
     "data": {
      "image/png": "[encoded data removed]",
      "text/plain": [
       "<Figure size 700x700 with 1 Axes>"
      ]
     },
     "metadata": {},
     "output_type": "display_data"
    }
   ],
   "source": [
    "fig, axes = plt.subplots(1, 1, figsize=(7, 7))\n",
    "sns.lineplot(data=df[time_cols], ax=axes)\n",
    "plt.savefig(f'{GRAPHICS_DIR}/re_1_times.svg')\n",
    "\n",
    "fig, axes = plt.subplots(1, 1, figsize=(7, 7))\n",
    "sns.lineplot(data=df[time_cols], ax=axes)\n",
    "axes.set_yscale('log')\n",
    "plt.savefig(f'{GRAPHICS_DIR}/re_1_log_times.svg')\n",
    "\n"
   ]
  },
  {
   "cell_type": "markdown",
   "metadata": {},
   "source": [
    "### Experiments 2"
   ]
  },
  {
   "cell_type": "code",
   "execution_count": null,
   "metadata": {},
   "outputs": [],
   "source": [
    "import timeit as ti \n",
    "\n",
    "\n",
    "exp2_results_dict = {}\n",
    "for i in EXP2_INSTANCE_SIZES:\n",
    "    reg_exp_dict = reg_ex_exp2_dict[f're_exp2_{i}']\n",
    "    instances_dict = exp2_instances_dict[f'exp2_inst_{i}']\n",
    "\n",
    "    for inst in instances:\n",
    "        time_regular_expression(reg_ex_dict, instances_dict['instances'], verbose=2)\n",
    "        "
   ]
  }
 ],
 "metadata": {
  "kernelspec": {
   "display_name": "venv",
   "language": "python",
   "name": "python3"
  },
  "language_info": {
   "codemirror_mode": {
    "name": "ipython",
    "version": 3
   },
   "file_extension": ".py",
   "mimetype": "text/x-python",
   "name": "python",
   "nbconvert_exporter": "python",
   "pygments_lexer": "ipython3",
   "version": "3.9.18"
  },
  "orig_nbformat": 4
 },
 "nbformat": 4,
 "nbformat_minor": 2
}
